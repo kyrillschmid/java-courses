{
 "cells": [
  {
   "cell_type": "markdown",
   "id": "88540de7d78986f1",
   "metadata": {
    "lang": "de",
    "slideshow": {
     "slide_type": "slide"
    },
    "tags": [
     "slide"
    ]
   },
   "source": [
    "\n",
    "<img src=\"data:image/png;base64,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\n",
    "\"\n",
    "     style=\"display:block;margin:auto;width:10%\"/>\n",
    "<br>\n",
    "\n",
    "<div style=\"text-align:center; font-size:200%;\">\n",
    " <b>Clean Code: Kommentare und Dokumentation</b>\n",
    "</div>\n",
    "<br/>\n",
    "<div style=\"text-align:center;\">Coding Academy München</div>\n",
    "<br/>\n",
    "<!-- <div style=\"text-align:center;\">04 Clean Code_ Kommentare und Dokumentation.ipynb</div> -->\n",
    "<!-- <div style=\"text-align:center;\">python_courses/slides/module_230_clean_code/topic_150_a3_comments_and_docs.py</div> -->"
   ]
  },
  {
   "cell_type": "markdown",
   "id": "88c78bef8a4cde7a",
   "metadata": {
    "lang": "de",
    "slideshow": {
     "slide_type": "slide"
    },
    "tags": [
     "slide"
    ]
   },
   "source": [
    "\n",
    "# Clean Code: Kommentare und Dokumentation"
   ]
  },
  {
   "cell_type": "markdown",
   "id": "022e8ec8336ded9c",
   "metadata": {
    "lang": "de",
    "lines_to_next_cell": 2,
    "slideshow": {
     "slide_type": "subslide"
    },
    "tags": [
     "subslide"
    ]
   },
   "source": [
    "\n",
    "## JavaDoc\n",
    "\n",
    "Java bietet eine Möglichkeit, Ihren Code mit JavaDoc-Kommentaren zu dokumentieren. JavaDoc-Kommentare sind ähnlich wie docstrings in Python, aber sie stehen über der Entität, die sie dokumentieren, und sind in /** und */ eingeschlossen. "
   ]
  },
  {
   "cell_type": "code",
   "execution_count": 1,
   "id": "0a41da23",
   "metadata": {},
   "outputs": [],
   "source": [
    "/**\n",
    " * This method adds two numbers and returns the result.\n",
    " * \n",
    " * @param a The first number to add.\n",
    " * @param b The second number to add.\n",
    " * @return The result of adding `a` and `b`.\n",
    " */\n",
    " public int add(int a, int b) {\n",
    "    return a + b;\n",
    " }\n"
   ]
  },
  {
   "cell_type": "markdown",
   "id": "e06879e93fdcfb01",
   "metadata": {
    "lang": "de",
    "slideshow": {
     "slide_type": "subslide"
    },
    "tags": [
     "subslide"
    ]
   },
   "source": [
    "\n",
    "## JavaDoc-Konventionen\n",
    "\n",
    "- Erste Zeile liefert kurze Zusammenfassung \n",
    "- Weitere Zeilen mehr Details bei Bedarf\n",
    "- Konsistent in gesamter Code-Basis\n",
    "- Genügend Informationen liefern (was tut Entität, Funktionsweise, Zweck)\n",
    "- Klar, prägnant und leicht verständlich sein\n",
    "- Auf dem neuesten Stand gehalten"
   ]
  },
  {
   "cell_type": "markdown",
   "id": "dc399658817f56b6",
   "metadata": {
    "lang": "de",
    "slideshow": {
     "slide_type": "subslide"
    },
    "tags": [
     "subslide"
    ]
   },
   "source": [
    "\n",
    "## Kommentare\n",
    "\n",
    "- Kommentare kompensieren unser Unvermögen, uns in Code auszudrücken.\n",
    "- Wenn möglich, drücke dich in Code aus, nicht in Kommentaren!\n",
    "  - Wann immer du einen Kommentar schreiben willst, prüfe, ob du es nicht im\n",
    "    Code tun kannst.\n",
    "  - Schreibe lieber Assertions wenn möglich.\n",
    "  - Verwende erklärende Variablen"
   ]
  },
  {
   "cell_type": "code",
   "execution_count": 5,
   "id": "409430483001b057",
   "metadata": {
    "tags": [
     "keep"
    ]
   },
   "outputs": [],
   "source": [
    "int daysOfWork = 4"
   ]
  },
  {
   "cell_type": "code",
   "execution_count": 6,
   "id": "96aec1b7c1867825",
   "metadata": {
    "tags": [
     "keep"
    ]
   },
   "outputs": [],
   "source": [
    "// Multiply the seconds in a day times the days of work.\n",
    "int durationInSeconds = 60 * 60 * 24 * daysOfWork"
   ]
  },
  {
   "cell_type": "code",
   "execution_count": 8,
   "id": "a62c674b38c7ff6f",
   "metadata": {
    "lines_to_next_cell": 2,
    "tags": [
     "keep"
    ]
   },
   "outputs": [],
   "source": [
    "int SECONDS_PER_DAY = 60 * 60 * 24;\n",
    "int durationInSeconds = SECONDS_PER_DAY * daysOfWork;"
   ]
  },
  {
   "cell_type": "markdown",
   "id": "0a68ff314de8976c",
   "metadata": {
    "lang": "de",
    "slideshow": {
     "slide_type": "subslide"
    },
    "tags": [
     "subslide"
    ]
   },
   "source": [
    "\n",
    "## Wie Kommentare scheitern\n",
    "\n",
    "- Kommentare sind schwer zu pflegen\n",
    "- Deshalb lügen sie oft\n",
    "- Sie werden nicht geändert, wenn der Code aktualisiert wird\n",
    "- Sie werden nicht verschoben, wenn der Code verschoben wird"
   ]
  },
  {
   "cell_type": "code",
   "execution_count": 11,
   "id": "40e475f3bc0f6740",
   "metadata": {},
   "outputs": [],
   "source": [
    "// Check to see if the employee is eligible for full benefits\n",
    "// if ((employee.flags & HOURLY_FLAG) != 0 && employee.age > 65) {\n",
    "//  ...\n",
    "// }\n",
    "//\n",
    "// versus...\n",
    "//\n",
    "//\n",
    "// if (employee.isEligibleForFullBenefits()){\n",
    "// ...\n",
    "// }"
   ]
  },
  {
   "cell_type": "markdown",
   "id": "83549aa36924a204",
   "metadata": {
    "lang": "de",
    "lines_to_next_cell": 2,
    "slideshow": {
     "slide_type": "subslide"
    },
    "tags": [
     "subslide"
    ]
   },
   "source": [
    "\n",
    "## In Python: PEP-8 Regeln für Kommentare\n",
    "\n",
    "Befolge die [PEP-8](https://peps.python.org/pep-0008/#comments) Richtlinien\n",
    "für Kommentare:\n",
    "\n",
    "- Halte die Kommentare aktuell, wenn sich der Code ändert.\n",
    "- Kommentare sollten aus vollständigen Sätzen bestehen.\n",
    "  - Das erste Wort wird großgeschrieben, es sei denn, es ist ein Bezeichner.\n",
    "  - Bezeichner sollten niemals geändert werden\n",
    "  - Verwenden Sie in mehrsätzigen Kommentaren zwei Leerzeichen nach einem\n",
    "    satzabschließenden Punkt.\n",
    "- Die Kommentare müssen klar und leicht verständlich sein.\n",
    "- Coder aus nicht englischsprachigen Ländern: Bitte schreiben Sie Ihre\n",
    "  Kommentare auf Englisch, es sei denn, Sie sind 120% sicher, dass der Code\n",
    "  niemals von Leuten gelesen wird, die Ihre Sprache nicht sprechen."
   ]
  },
  {
   "cell_type": "markdown",
   "id": "9daee1d250a4856f",
   "metadata": {
    "lang": "de",
    "slideshow": {
     "slide_type": "subslide"
    },
    "tags": [
     "subslide"
    ]
   },
   "source": [
    "\n",
    "## Gute Kommentare\n",
    "\n",
    "Kommentare sind gut, wenn sie\n",
    "\n",
    "- aus juristischen Gründen notwendig sind\n",
    "- Konzepte erklären, die nicht im Code ausgedrückt werden können\n",
    "- den Zweck des Codes erklären\n",
    "- Code erklären, den man nicht bereinigen kann (z.B. eine veröffentlichte\n",
    "  Schnittstelle)\n",
    "- veröffentlichte Schnittstellen dokumentieren (z.B. mit Doxygen)\n",
    "- `TODO`-Kommentare sind (wenn sie sparsam verwendet werden)\n",
    "- wichtige Aspekte betonen (\"Dies ist sehr wichtig, weil...\")"
   ]
  },
  {
   "cell_type": "markdown",
   "id": "9d88d0fa6d8928d6",
   "metadata": {
    "lang": "de",
    "slideshow": {
     "slide_type": "subslide"
    },
    "tags": [
     "subslide"
    ]
   },
   "source": [
    "\n",
    "## Schlechte Kommentare\n",
    "\n",
    "- Unklare Kommentare (Nuscheln)\n",
    "\n",
    "Angenommen, der folgende Kommentar ist tatsächlich richtig. Was sagt er uns?"
   ]
  },
  {
   "cell_type": "code",
   "execution_count": 19,
   "id": "d8d0fff027edd79e",
   "metadata": {
    "tags": [
     "keep"
    ]
   },
   "outputs": [],
   "source": [
    "try {\n",
    "    FileReader fileReader = new FileReader(\"my-app.cfg\");\n",
    "} catch (FileNotFoundException e) {\n",
    "    // Somebody else has already loaded the defaults.\n",
    "}"
   ]
  },
  {
   "cell_type": "markdown",
   "id": "31d6a242f53f117c",
   "metadata": {
    "lang": "de",
    "slideshow": {
     "slide_type": "subslide"
    },
    "tags": [
     "subslide"
    ]
   },
   "source": [
    "\n",
    "- Redundante Kommentare (dauern länger als der Code zu lesen, ohne klarer zu\n",
    "  sein)"
   ]
  },
  {
   "cell_type": "code",
   "execution_count": 20,
   "id": "dbf8ec319d726792",
   "metadata": {
    "tags": [
     "keep"
    ]
   },
   "outputs": [],
   "source": [
    "void readAndApplyConfiguration(BufferedReader file) {\n",
    "}"
   ]
  },
  {
   "cell_type": "code",
   "execution_count": 21,
   "id": "7aa2c58be223320d",
   "metadata": {
    "tags": [
     "keep"
    ]
   },
   "outputs": [],
   "source": [
    "try {\n",
    "    // Read the configuration from file `my-app.cfg`. The file has to be readable and\n",
    "    // in UTF-8 encoding. \n",
    "    FileReader fileReader = new FileReader(\"my-app.cfg\");\n",
    "    BufferedReader reader = new BufferedReader(fileReader);\n",
    "    \n",
    "    // If the file is indeed found, we read it and apply the configuration to the system.\n",
    "    readAndApplyConfiguration(reader);\n",
    "    reader.close();\n",
    "} catch (FileNotFoundException e) {\n",
    "    // If the file cannot be found we simply ignore the attempt.\n",
    "} catch (IOException e) {\n",
    "    // Handle the exception.\n",
    "}"
   ]
  },
  {
   "cell_type": "markdown",
   "id": "b9f5fcebe3c4fa16",
   "metadata": {
    "lang": "de",
    "slideshow": {
     "slide_type": "subslide"
    },
    "tags": [
     "subslide"
    ]
   },
   "source": [
    "\n",
    "- Irreführende Kommentare"
   ]
  },
  {
   "cell_type": "code",
   "execution_count": 3,
   "id": "789e4384",
   "metadata": {},
   "outputs": [],
   "source": [
    "%maven org.junit.jupiter:junit-jupiter-api:5.8.2\n",
    "import static org.junit.jupiter.api.Assertions.assertEquals;"
   ]
  },
  {
   "cell_type": "code",
   "execution_count": 1,
   "id": "bab668537b177522",
   "metadata": {
    "tags": [
     "keep"
    ]
   },
   "outputs": [],
   "source": [
    "// Return a new list that is the concatenation of the elements in `list_1` and\n",
    "// `list_2`.\n",
    "List<Integer> concatenateLists(List<Integer> list1, List<Integer> list2) {\n",
    "    if (list1.isEmpty()) {\n",
    "        return list2;\n",
    "    } else if (list2.isEmpty()) {\n",
    "        return list1;\n",
    "    } else {\n",
    "        List<Integer> result = new ArrayList<>(list1);\n",
    "        result.addAll(list2);\n",
    "        return result;\n",
    "    }\n",
    "}"
   ]
  },
  {
   "cell_type": "code",
   "execution_count": 5,
   "id": "ae4059dcfe6c8c0f",
   "metadata": {
    "tags": [
     "keep"
    ]
   },
   "outputs": [],
   "source": [
    "assertEquals(concatenateLists(Arrays.asList(1, 2), Arrays.asList(3, 4)), Arrays.asList(1, 2, 3, 4));"
   ]
  },
  {
   "cell_type": "markdown",
   "id": "a8564a8df76fb146",
   "metadata": {
    "lang": "de",
    "slideshow": {
     "slide_type": "subslide"
    },
    "tags": [
     "subslide"
    ]
   },
   "source": [
    "\n",
    "Aufgrund des Kommentars würde man folgendes Verhalten nicht erwarten:"
   ]
  },
  {
   "cell_type": "code",
   "execution_count": 10,
   "id": "2fe8fba0ca82b978",
   "metadata": {
    "tags": [
     "keep"
    ]
   },
   "outputs": [],
   "source": [
    "List<Integer> x = Arrays.asList(1, 2);\n",
    "assertEquals(concatenateLists(x, Collections.emptyList()), x);\n",
    "assertEquals(concatenateLists(Collections.emptyList(), x), x);"
   ]
  },
  {
   "cell_type": "markdown",
   "id": "aedbde9e7314cfe8",
   "metadata": {
    "lang": "de",
    "slideshow": {
     "slide_type": "slide"
    },
    "tags": [
     "subslide"
    ]
   },
   "source": [
    "\n",
    "- Vorgeschriebene Kommentare (durch Style-Guides, nicht durch Gesetze)\n",
    "- Journal-Kommentare (Geschichte der Datei)"
   ]
  },
  {
   "cell_type": "code",
   "execution_count": 28,
   "id": "d6fbdc29133bfc9f",
   "metadata": {
    "tags": [
     "keep"
    ]
   },
   "outputs": [],
   "source": [
    "// file: widget.java\n",
    "//\n",
    "// Changes made to the file:\n",
    "//\n",
    "// 2022-08-10: Added a frobnicator as proposed by Jane\n",
    "// 2022-08-11: Twiddled the frobnicator's parameters\n",
    "// 2022-08-12: Further tweaks to the frobnicator settings\n",
    "// 2022-08-13: Added flux compensation to the frobnicator\n",
    "// 2022-08-14: Improved flux compensation\n",
    "// 2022-09-03: Revisited flux compensation after discussion with Joe\n",
    "//\n",
    "public class Frobnicator {\n",
    "    \n",
    "}"
   ]
  },
  {
   "cell_type": "markdown",
   "id": "81863f17",
   "metadata": {
    "slideshow": {
     "slide_type": "subslide"
    }
   },
   "source": [
    "- HTML Kommentare"
   ]
  },
  {
   "cell_type": "code",
   "execution_count": 53,
   "id": "7e6fc851",
   "metadata": {},
   "outputs": [],
   "source": [
    "/**\n",
    "* <p><strong>Important:</strong></p>\n",
    "* <ul>\n",
    "*   <li>\n",
    "*     Don&#39;t use <code>frobnicator_1</code> to tweak\n",
    "*     <code>flux_compensator_2</code> because they are not\n",
    "*     coherent!\n",
    "*   </li>\n",
    "*   <li>\n",
    "*     Make sure that <code>fuzzbox_2</code> is turned to\n",
    "*     at least 11 before plugging in the guitar.\n",
    "*   </li>\n",
    "* </ul>\n",
    "*/"
   ]
  },
  {
   "cell_type": "markdown",
   "id": "e18091eb",
   "metadata": {
    "slideshow": {
     "slide_type": "subslide"
    }
   },
   "source": [
    "- Inhaltsfreie Kommentare (Noise comments)"
   ]
  },
  {
   "cell_type": "code",
   "execution_count": 51,
   "id": "525bfcd2",
   "metadata": {},
   "outputs": [],
   "source": [
    "class FluxCompensator {\n",
    "    // The constructor of the flux compensator.\n",
    "    public FluxCompensator() {\n",
    "        // Implementation goes here\n",
    "    }\n",
    "}"
   ]
  },
  {
   "cell_type": "code",
   "execution_count": 31,
   "id": "367970cc7a01e091",
   "metadata": {
    "lines_to_next_cell": 2,
    "slideshow": {
     "slide_type": "slide"
    },
    "tags": [
     "keep"
    ]
   },
   "outputs": [],
   "source": [
    "// Hourly wage in US$\n",
    "final double HOURLY_WAGE_IN_USD = 80;"
   ]
  },
  {
   "cell_type": "markdown",
   "id": "16e87578bb2fd5a5",
   "metadata": {
    "lang": "de",
    "slideshow": {
     "slide_type": "subslide"
    },
    "tags": [
     "subslide"
    ]
   },
   "source": [
    "\n",
    "- Positions-Markierungen"
   ]
  },
  {
   "cell_type": "code",
   "execution_count": 33,
   "id": "d7156487083d1482",
   "metadata": {
    "tags": [
     "keep"
    ]
   },
   "outputs": [],
   "source": [
    "class MyVeryLargeClass {\n",
    "    ///////////////////////////////\n",
    "    // Initialization Methods\n",
    "    ///////////////////////////////\n",
    "    void init() {\n",
    "    }\n",
    "    \n",
    "    void initInAnotherWay() {\n",
    "    }\n",
    "    \n",
    "    ///////////////////////////////\n",
    "    // Computations\n",
    "    ///////////////////////////////\n",
    "    void computeThis() {\n",
    "    }\n",
    "\n",
    "    void computeThat() {\n",
    "    }\n",
    "    \n",
    "    ///////////////////////////////\n",
    "    // State Updates\n",
    "    ///////////////////////////////\n",
    "    void setSomeState(int x) {\n",
    "    }\n",
    "}\n"
   ]
  },
  {
   "cell_type": "markdown",
   "id": "fdb3c78dae354225",
   "metadata": {
    "lang": "de",
    "slideshow": {
     "slide_type": "subslide"
    },
    "tags": [
     "subslide"
    ]
   },
   "source": [
    "\n",
    "- Zuschreibungen und Namensnennungen"
   ]
  },
  {
   "cell_type": "code",
   "execution_count": 34,
   "id": "faeafb33b19f5225",
   "metadata": {
    "tags": [
     "keep"
    ]
   },
   "outputs": [],
   "source": [
    "// Added by Jack <jack@example.org> on 2018-03-12\n",
    "int someFunction(int x, int y) {\n",
    "    return x + y;\n",
    "}"
   ]
  },
  {
   "cell_type": "markdown",
   "id": "413798fe48b79ac8",
   "metadata": {
    "lang": "de",
    "slideshow": {
     "slide_type": "subslide"
    },
    "tags": [
     "subslide"
    ]
   },
   "source": [
    "\n",
    "- Auskommentierter Code\n",
    "  - Neigt dazu, nie gelöscht zu werden\n",
    "  - Unklar, warum er da ist: sollte er gelöscht oder wieder einkommentiert\n",
    "    werden?\n",
    "  - Sollte lieber gelöscht und bei Bedarf aus dem Versionskontrollsystem\n",
    "    wiederhergestellt werden"
   ]
  },
  {
   "cell_type": "code",
   "execution_count": 36,
   "id": "f072eadad325749f",
   "metadata": {
    "tags": [
     "keep"
    ]
   },
   "outputs": [],
   "source": [
    "// int someFunction(int x, int y) {\n",
    "//    return x + y;\n",
    "//}"
   ]
  },
  {
   "cell_type": "code",
   "execution_count": 37,
   "id": "5e8da40db31012b8",
   "metadata": {
    "lines_to_next_cell": 2,
    "tags": [
     "keep"
    ]
   },
   "outputs": [],
   "source": [
    "int someOtherFunction(int x, int y) {\n",
    "    // int z = x + y;\n",
    "    // return z;\n",
    "    return 123;\n",
    "}"
   ]
  },
  {
   "cell_type": "markdown",
   "id": "7b2788077044ae6e",
   "metadata": {
    "lang": "de",
    "slideshow": {
     "slide_type": "subslide"
    },
    "tags": [
     "subslide"
    ]
   },
   "source": [
    "\n",
    "- Nichtlokale Information"
   ]
  },
  {
   "cell_type": "code",
   "execution_count": 44,
   "id": "190781acd2dd66d1",
   "metadata": {
    "tags": [
     "keep"
    ]
   },
   "outputs": [],
   "source": [
    "// This is set to its correct value by `frobFoo()` in file `frobnicator.java`.\n",
    "int foo = 123;"
   ]
  },
  {
   "cell_type": "markdown",
   "id": "a6bca532a310eb4c",
   "metadata": {
    "lang": "de",
    "slideshow": {
     "slide_type": "subslide"
    },
    "tags": [
     "subslide"
    ]
   },
   "source": [
    "\n",
    "- Zu viel Information"
   ]
  },
  {
   "cell_type": "code",
   "execution_count": 45,
   "id": "4bbb0ef19bb38bd2",
   "metadata": {
    "tags": [
     "keep"
    ]
   },
   "outputs": [],
   "source": [
    "/* Implement protocol handling according to ABC Standard 212-3.\n",
    "\n",
    " This was first proposed by Steve in a meeting in 2013, but at the time we had\n",
    " no compatible implementation of the support libraries available. We therefore\n",
    " shelved the discussion until Tina brought the topic up in the famous all-hands\n",
    " meeting of October 2019. There were some initial problems, but we finally\n",
    " succeeded in getting a running implementation working in 2021. This contains a\n",
    " bug that is still present in the current code base that causes the system to\n",
    " crash when talking to a client that implements variant /4 of the protocol.\n",
    " Finally, in early 2022 we also adapted this implementation for the XYZ device\n",
    " series.\n",
    " */"
   ]
  },
  {
   "cell_type": "markdown",
   "id": "e90419dad02ee4fc",
   "metadata": {
    "lang": "de",
    "slideshow": {
     "slide_type": "subslide"
    },
    "tags": [
     "subslide"
    ]
   },
   "source": [
    "\n",
    "- Unklarer Bezug zum Code"
   ]
  },
  {
   "cell_type": "code",
   "execution_count": 48,
   "id": "c2ac471470ef4355",
   "metadata": {
    "tags": [
     "keep"
    ]
   },
   "outputs": [],
   "source": [
    "// Adjust for target endianness and buffer size\n",
    "int foo = Math.max((foo + 7) * 2, 256)"
   ]
  }
 ],
 "metadata": {
  "celltoolbar": "Slideshow",
  "kernelspec": {
   "display_name": "Java",
   "language": "java",
   "name": "java"
  },
  "language_info": {
   "codemirror_mode": "java",
   "file_extension": ".jshell",
   "mimetype": "text/x-java-source",
   "name": "Java",
   "pygments_lexer": "java",
   "version": "19.0.1+10-21"
  }
 },
 "nbformat": 4,
 "nbformat_minor": 5
}

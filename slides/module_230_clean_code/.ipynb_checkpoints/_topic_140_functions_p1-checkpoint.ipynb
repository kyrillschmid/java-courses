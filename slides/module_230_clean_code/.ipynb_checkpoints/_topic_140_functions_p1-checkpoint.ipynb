{
 "cells": [
  {
   "cell_type": "markdown",
   "id": "f19161568733c2c0",
   "metadata": {
    "lang": "de",
    "slideshow": {
     "slide_type": "slide"
    },
    "tags": [
     "slide"
    ]
   },
   "source": [
    "<img src=\"data:image/png;base64,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\n",
    "\"\n",
    "style=\"display:block;margin:auto;width:10%\"/>\n",
    "     <br>\n",
    "<div style=\"text-align:center; font-size:200%;\">\n",
    " <b>Clean Code: Funktionen</b>\n",
    "</div>\n",
    "<br/>\n",
    "<div style=\"text-align:center;\">Coding Academy München</div>\n",
    "<br/>\n",
    "<!-- <div style=\"text-align:center;\">03 Clean Code_ Funktionen.ipynb</div> -->\n",
    "<!-- <div style=\"text-align:center;\">python_courses/slides/module_230_clean_code/topic_140_a3_functions.py</div> -->"
   ]
  },
  {
   "cell_type": "markdown",
   "id": "528421d5494bdbfa",
   "metadata": {
    "lang": "de",
    "slideshow": {
     "slide_type": "slide"
    },
    "tags": [
     "slide"
    ]
   },
   "source": [
    "\n",
    "# Clean Code: Funktionen\n",
    "\n",
    "Verpacke Sinnvolle Operationen als sorgfältig benannte Funktionen\n",
    "\n",
    "- Besser lesbar\n",
    "- Einfacher zu testen\n",
    "- Wird eher wiederverwendet\n",
    "- Fehler sind weniger wahrscheinlich"
   ]
  },
  {
   "cell_type": "markdown",
   "id": "434fea343edae7d1",
   "metadata": {
    "lang": "de",
    "slideshow": {
     "slide_type": "subslide"
    },
    "tags": [
     "subslide"
    ]
   },
   "source": [
    "\n",
    "## Die 1. Clean Code Regel für Funktionen\n",
    "\n",
    "- Funktionen sollten kurz sein\n",
    "- Kürzer als man meint!\n",
    "- Maximal 4 Zeilen!"
   ]
  },
  {
   "cell_type": "markdown",
   "id": "766bb046cdaafc9f",
   "metadata": {
    "lang": "de",
    "slideshow": {
     "slide_type": "subslide"
    },
    "tags": [
     "subslide"
    ]
   },
   "source": [
    "\n",
    "## Weniger strikte Regeln\n",
    "\n",
    "(Aus den C++ Core Guidelines)\n",
    "\n",
    "- Funktionen sollten auf einen Bildschirm passen\n",
    "- Große Funktionen sollten in kleinere, zusammenhängende und benannte\n",
    "  Funktionen aufgeteilt werden\n",
    "- Funktionen mit einer bis fünf Zeilen sollten als normal angesehen werden"
   ]
  },
  {
   "cell_type": "markdown",
   "id": "2e0c4a65aec79aa1",
   "metadata": {
    "lang": "de",
    "slideshow": {
     "slide_type": "subslide"
    },
    "tags": [
     "subslide"
    ]
   },
   "source": [
    "\n",
    "## Konzentration auf eine Aufgabe\n",
    "\n",
    "- Funktionen sollten eine Aufgabe erfüllen (\"do one thing\")\n",
    "- Sie sollten diese Aufgabe gut erfüllen\n",
    "- Sie sollten nur diese Aufgabe erfüllen"
   ]
  },
  {
   "cell_type": "code",
   "execution_count": 1,
   "id": "05fa0ec525cb6519",
   "metadata": {
    "tags": [
     "keep"
    ]
   },
   "outputs": [],
   "source": [
    "public int computeSaveAndPrintResults(int a, int b, List<Integer> results) {\n",
    "        int newResult = a + b;  // Complex computation...\n",
    "        results.add(newResult);\n",
    "        for (int result : results) {\n",
    "            System.out.println(result);\n",
    "        }\n",
    "        return newResult;\n",
    "}"
   ]
  },
  {
   "cell_type": "code",
   "execution_count": 2,
   "id": "a8452c5c006dff11",
   "metadata": {
    "tags": [
     "keep"
    ]
   },
   "outputs": [
    {
     "name": "stdout",
     "output_type": "stream",
     "text": [
      "12\n",
      "43\n",
      "6\n",
      "[12, 43, 6]\n"
     ]
    }
   ],
   "source": [
    "List myResults = new ArrayList<Integer>(Arrays.asList(12, 43));\n",
    "int newResult = computeSaveAndPrintResults(2, 4, myResults);\n",
    "System.out.println(myResults);"
   ]
  },
  {
   "cell_type": "code",
   "execution_count": 3,
   "id": "816abc40616cdee9",
   "metadata": {
    "slideshow": {
     "slide_type": "subslide"
    },
    "tags": [
     "subslide",
     "keep"
    ]
   },
   "outputs": [],
   "source": [
    "public int computeResult(int a, int b) {\n",
    "    return a + b;\n",
    "}"
   ]
  },
  {
   "cell_type": "code",
   "execution_count": 4,
   "id": "1f62a1fc050f5e50",
   "metadata": {
    "tags": [
     "keep"
    ]
   },
   "outputs": [],
   "source": [
    "public void saveResult(int newResult, List<Integer> results) {\n",
    "    results.add(newResult);\n",
    "}"
   ]
  },
  {
   "cell_type": "code",
   "execution_count": 5,
   "id": "af37a7ac4e05729a",
   "metadata": {
    "tags": [
     "keep"
    ]
   },
   "outputs": [],
   "source": [
    "public void printResults(List<Integer> results) {\n",
    "    for (int result : results) {\n",
    "        System.out.println(result);\n",
    "    }\n",
    "}\n"
   ]
  },
  {
   "cell_type": "code",
   "execution_count": 6,
   "id": "97e8ac356bcaab16",
   "metadata": {
    "slideshow": {
     "slide_type": "subslide"
    },
    "tags": [
     "subslide",
     "keep"
    ]
   },
   "outputs": [],
   "source": [
    "// Better but still sketchy (see later for further refinement):\n",
    "public void processNewSensorData(int a, int b, List<Integer> results) {\n",
    "    int newResult = computeResult(a, b);\n",
    "    saveResult(newResult, results);\n",
    "    printResults(results);\n",
    "}\n"
   ]
  },
  {
   "cell_type": "code",
   "execution_count": 70,
   "id": "16c30038884bbb08",
   "metadata": {
    "tags": [
     "keep"
    ]
   },
   "outputs": [
    {
     "name": "stdout",
     "output_type": "stream",
     "text": [
      "12\n",
      "43\n",
      "6\n",
      "[12, 43, 6]\n"
     ]
    }
   ],
   "source": [
    "List<Integer> yourResults = new ArrayList<>(Arrays.asList(12, 43));\n",
    "processNewSensorData(2, 4, yourResults);\n",
    "System.out.println(yourResults);\n"
   ]
  },
  {
   "cell_type": "markdown",
   "id": "898d1b87bb0d229b",
   "metadata": {
    "lang": "de",
    "slideshow": {
     "slide_type": "slide"
    },
    "tags": [
     "slide"
    ]
   },
   "source": [
    "\n",
    "## Abstraktionsebenen\n",
    "\n",
    "Alles, was die Funktion in ihrem Rumpf tut, sollte eine (und nur eine)\n",
    "Abstraktionsebene unterhalb der Funktion selbst sein."
   ]
  },
  {
   "cell_type": "markdown",
   "id": "1519c782487e241a",
   "metadata": {
    "lang": "de",
    "slideshow": {
     "slide_type": "subslide"
    },
    "tags": [
     "subslide"
    ]
   },
   "source": [
    "\n",
    "## \"Um zu\"-Absätze: Kontrolle der Abstraktionsebenen\n",
    "\n",
    "Um `render_page_with_setups_and_teardowns()` durchzuführen\n",
    "\n",
    "prüfen wir, ob die Seite eine Testseite ist und\n",
    "\n",
    "wenn ja, binden wir Setup- und Teardown-Elemente ein.\n",
    "\n",
    "In jedem Fall rendern wir die Seite in HTML."
   ]
  },
  {
   "cell_type": "markdown",
   "id": "702f82f566892aff",
   "metadata": {
    "lang": "de",
    "slideshow": {
     "slide_type": "subslide"
    },
    "tags": [
     "subslide"
    ]
   },
   "source": [
    "\n",
    "## Die Step-Down-Regel\n",
    "\n",
    "- Wir wollen, dass sich der Code wie eine Erzählung von oben nach unten liest\n",
    "- Auf jede Funktion sollten die Funktionen eine Abstraktionsebene darunter\n",
    "  folgen"
   ]
  },
  {
   "cell_type": "markdown",
   "id": "f87689c78e484a09",
   "metadata": {
    "lang": "de",
    "lines_to_next_cell": 2,
    "slideshow": {
     "slide_type": "slide"
    },
    "tags": [
     "slide"
    ]
   },
   "source": [
    "\n",
    "## Mini-Workshop: Do one Thing\n",
    "\n",
    "Die Funktion `handleMoneyStuff()` macht mehr als eine Sache.\n",
    "\n",
    "Teilen Sie sie in mehrere Funktionen auf, so dass jede nur eine Sache tut.\n",
    "Stellen Sie sicher, dass\n",
    "- jede Funktion ihre Aufgabe gut erfüllt und sich auf einer einzigen\n",
    "  Abstraktionsebene befindet,\n",
    "- alle Namen angemessen sind, und\n",
    "- der Code leicht zu verstehen ist.\n",
    "\n",
    "*Tipp:* Beginnen Sie damit, die Variablen gemäß den Kommentaren umzubenennen,\n",
    "um den Rest der Arbeit zu vereinfachen."
   ]
  },
  {
   "cell_type": "code",
   "execution_count": 20,
   "id": "e210a4fd483dae34",
   "metadata": {
    "lang": "de",
    "slideshow": {
     "slide_type": "subslide"
    },
    "tags": [
     "subslide"
    ]
   },
   "outputs": [],
   "source": [
    "// Name der Wochentage\n",
    "List<String> lstDns = Arrays.asList(\"Mon\", \"Tue\", \"Wed\", \"Thu\", \"Fri\");"
   ]
  },
  {
   "cell_type": "markdown",
   "id": "793a6b04bfcb6216",
   "metadata": {
    "lang": "de",
    "slideshow": {
     "slide_type": "subslide"
    },
    "tags": [
     "subslide"
    ]
   },
   "source": [
    "\n",
    "Die Funktion `handleMoneyStuff()` hat folgende Parameter:\n",
    "\n",
    "- den Wochentag (`iDow`, day of week),\n",
    "- das Gehalt pro Tag (`fSpd`, salary per day),\n",
    "- den Namen des Angestellten (`strN`, name) und\n",
    "- einen Liste der bisher gezahlten Gehälter (`lstSlrs`, salaries).\n",
    "\n",
    "Das neue Gehalt wird an die Liste `lstSlrs` angehängt.\n",
    "\n",
    "Die Funktion gibt die zu zahlende Steuer zurück."
   ]
  },
  {
   "cell_type": "code",
   "execution_count": 21,
   "id": "ee7c1e07ec9c07a1",
   "metadata": {
    "slideshow": {
     "slide_type": "slide"
    },
    "tags": [
     "keep"
    ]
   },
   "outputs": [],
   "source": [
    "public double handleMoneyStuff(int iDow, float fSpd, String strN, List<Double> lstSlrs, List<String> lstDns) {\n",
    "    // Get the day of week from the list of days.\n",
    "    // We count Sunday as 1, Monday as 2, etc. but the work week starts on Monday.\n",
    "    String strDow = lstDns.get(iDow - 1);\n",
    "    // Compute the salary so far based on the day\n",
    "    double fSsf = (iDow - 1) * fSpd;\n",
    "    // The tax\n",
    "    double fT = 0.0;\n",
    "    if (fSsf > 500.0 && fSsf <= 1000.0) {\n",
    "        fT = fSsf * 0.05;\n",
    "    } else if (fSsf > 1000.0 && fSsf <= 2000.0) {\n",
    "        fT = fSsf * 0.1;\n",
    "    } else {\n",
    "        fT = fSsf * 0.15;\n",
    "    }\n",
    "    // Update salary based on the tax to pay\n",
    "    fSsf = fSsf - fT;\n",
    "    // Add the salary to the list of all salaries paid\n",
    "    lstSlrs.add(fSsf);\n",
    "    System.out.printf(\"%s worked till %s and earned $%.2f this week.%n\", strN, strDow, fSsf);\n",
    "    System.out.printf(\"Their taxes were $%.2f.%n\", fT);\n",
    "    return fT;\n",
    "}\n"
   ]
  },
  {
   "cell_type": "code",
   "execution_count": 22,
   "id": "35e2816d76f409c1",
   "metadata": {
    "slideshow": {
     "slide_type": "slide"
    },
    "tags": [
     "keep"
    ]
   },
   "outputs": [
    {
     "name": "stdout",
     "output_type": "stream",
     "text": [
      "Joe worked till Thu and earned $570,00 this week.\n",
      "Their taxes were $30,00.\n",
      "30.0\n"
     ]
    }
   ],
   "source": [
    "List<Double> salaries = new ArrayList<>(Arrays.asList(2345.0, 1234.0));\n",
    "double result = handleMoneyStuff(4, 200.0f, \"Joe\", salaries, lstDns);\n",
    "System.out.println(result);"
   ]
  },
  {
   "cell_type": "code",
   "execution_count": 23,
   "id": "2969ce02d3d9e9f9",
   "metadata": {
    "tags": [
     "keep"
    ]
   },
   "outputs": [],
   "source": [
    "assert Arrays.equals(salaries.toArray(), new Double[] {2345.0, 1234.0, 570.0});\n",
    "assert result == 30.0;"
   ]
  },
  {
   "cell_type": "code",
   "execution_count": 11,
   "id": "31fbc8939634e658",
   "metadata": {
    "slideshow": {
     "slide_type": "subslide"
    },
    "tags": [
     "subslide"
    ]
   },
   "outputs": [],
   "source": [
    "List<String> dayOfWeekNames = Arrays.asList(\"Mon\", \"Tue\", \"Wed\", \"Thu\", \"Fri\");"
   ]
  },
  {
   "cell_type": "code",
   "execution_count": 24,
   "id": "5b3941b6f3439cbc",
   "metadata": {},
   "outputs": [],
   "source": [
    "public double computeSalaryAndTaxesV1(int dayOfWeekIndex, float salaryPerDay, String employeeName, List<Double> salaries, List<String> dayOfWeekNames) {\n",
    "    String dayOfWeek = dayOfWeekNames.get(dayOfWeekIndex - 1);\n",
    "    int daysWorkedThisWeek = dayOfWeekIndex - 1;\n",
    "    double salarySoFar = daysWorkedThisWeek * salaryPerDay;\n",
    "    double tax = 0.0;\n",
    "    if (salarySoFar > 500.0 && salarySoFar <= 1000.0) {\n",
    "        tax = salarySoFar * 0.05;\n",
    "    } else if (salarySoFar > 1000.0 && salarySoFar <= 2000.0) {\n",
    "        tax = salarySoFar * 0.1;\n",
    "    } else {\n",
    "        tax = salarySoFar * 0.15;\n",
    "    }\n",
    "    salarySoFar = salarySoFar - tax;\n",
    "    salaries.add(salarySoFar);\n",
    "    System.out.printf(\"%s worked till %s and earned $%.2f this week.%n\", employeeName, dayOfWeek, salarySoFar);\n",
    "    System.out.printf(\"Their taxes were $%.2f.%n\", tax);\n",
    "    return tax;\n",
    "}\n"
   ]
  },
  {
   "cell_type": "code",
   "execution_count": 25,
   "id": "f99530d0bac7086d",
   "metadata": {
    "tags": [
     "keep"
    ]
   },
   "outputs": [],
   "source": [
    "List<Double> salaries = new ArrayList<>(Arrays.asList(2345.0, 1234.0));"
   ]
  },
  {
   "cell_type": "code",
   "execution_count": 26,
   "id": "1925a45671e1ce7b",
   "metadata": {
    "slideshow": {
     "slide_type": "slide"
    }
   },
   "outputs": [
    {
     "name": "stdout",
     "output_type": "stream",
     "text": [
      "Joe worked till Thu and earned $570,00 this week.\n",
      "Their taxes were $30,00.\n",
      "30.0\n"
     ]
    }
   ],
   "source": [
    "double result = computeSalaryAndTaxesV1(4, 200.0f, \"Joe\", salaries, dayOfWeekNames);\n",
    "System.out.println(result);"
   ]
  },
  {
   "cell_type": "code",
   "execution_count": 27,
   "id": "ddfb1ec53a160004",
   "metadata": {
    "tags": [
     "keep"
    ]
   },
   "outputs": [],
   "source": [
    "assert Arrays.equals(salaries.toArray(), new Double[] {2345.0, 1234.0, 570.0});\n",
    "assert result == 30.0;"
   ]
  },
  {
   "cell_type": "code",
   "execution_count": 34,
   "id": "c8240df9151dbece",
   "metadata": {
    "slideshow": {
     "slide_type": "slide"
    }
   },
   "outputs": [],
   "source": [
    "public double computeSalaryAndTaxesV2(int dayOfWeekIndex, float salaryPerDay, String employeeName, List<Double> salaries, List<String> dayOfWeekNames) {\n",
    "    double baseSalary = computeBaseSalary(dayOfWeekIndex, salaryPerDay);\n",
    "    double[] netSalaryAndTax = computeNetSalaryAndTax(baseSalary);\n",
    "    double netSalary = netSalaryAndTax[0];\n",
    "    double tax = netSalaryAndTax[1];\n",
    "    storeNetSalary(netSalary, salaries);\n",
    "    printEmployeeInfo(dayOfWeekIndex, employeeName, netSalary, tax, dayOfWeekNames);\n",
    "    return tax;\n",
    "}\n"
   ]
  },
  {
   "cell_type": "code",
   "execution_count": 28,
   "id": "e5320a394d0ace6c",
   "metadata": {},
   "outputs": [],
   "source": [
    "public double computeBaseSalary(int dayOfWeekIndex, float salaryPerDay) {\n",
    "    int daysWorkedThisWeek = dayOfWeekIndex - 1;\n",
    "    return daysWorkedThisWeek * salaryPerDay;\n",
    "}"
   ]
  },
  {
   "cell_type": "code",
   "execution_count": 29,
   "id": "7c6f4595940abe1d",
   "metadata": {},
   "outputs": [],
   "source": [
    "public double[] computeNetSalaryAndTax(double baseSalary) {\n",
    "    double tax = computeTax(baseSalary);\n",
    "    double netSalary = baseSalary - tax;\n",
    "    return new double[] {netSalary, tax};\n",
    "}"
   ]
  },
  {
   "cell_type": "code",
   "execution_count": 30,
   "id": "456b1d5d821e2d27",
   "metadata": {},
   "outputs": [],
   "source": [
    "public double computeTax(double baseSalary) {\n",
    "    if (baseSalary > 500.0 && baseSalary <= 1000.0) {\n",
    "        return baseSalary * 0.05;\n",
    "    } else if (baseSalary > 1000.0 && baseSalary <= 2000.0) {\n",
    "        return baseSalary * 0.1;\n",
    "    } else {\n",
    "        return baseSalary * 0.15;\n",
    "    }\n",
    "}\n"
   ]
  },
  {
   "cell_type": "code",
   "execution_count": 31,
   "id": "9f08581e1029e869",
   "metadata": {},
   "outputs": [],
   "source": [
    "public void storeNetSalary(double netSalary, List<Double> salaries) {\n",
    "    salaries.add(netSalary);\n",
    "}\n"
   ]
  },
  {
   "cell_type": "code",
   "execution_count": 32,
   "id": "01416c6847ada9aa",
   "metadata": {},
   "outputs": [],
   "source": [
    "public void printEmployeeInfo(int dayOfWeekIndex, String name, double salary, double tax, List<String> dayOfWeekNames) {\n",
    "    String dayOfWeek = dayOfWeekNames.get(dayOfWeekIndex - 1);\n",
    "    System.out.printf(\"%s worked till %s and earned $%.2f this week.%n\", name, dayOfWeek, salary);\n",
    "    System.out.printf(\"Their taxes were $%.2f.%n\", tax);\n",
    "}"
   ]
  },
  {
   "cell_type": "code",
   "execution_count": 33,
   "id": "166b3502a362cdd7",
   "metadata": {},
   "outputs": [],
   "source": [
    "public String getDayOfWeekFromIndex(int index, List<String> dayOfWeekNames) {\n",
    "    return dayOfWeekNames.get(index - 1);\n",
    "}"
   ]
  },
  {
   "cell_type": "code",
   "execution_count": 35,
   "id": "b695e462a4e55095",
   "metadata": {
    "tags": [
     "keep"
    ]
   },
   "outputs": [
    {
     "name": "stdout",
     "output_type": "stream",
     "text": [
      "Joe worked till Thu and earned $570,00 this week.\n",
      "Their taxes were $30,00.\n",
      "30.0\n"
     ]
    }
   ],
   "source": [
    "List<Double> salaries = new ArrayList<>(Arrays.asList(2345.0, 1234.0));\n",
    "double result = computeSalaryAndTaxesV2(4, 200.0f, \"Joe\", salaries, dayOfWeekNames);\n",
    "System.out.println(result);"
   ]
  },
  {
   "cell_type": "code",
   "execution_count": 36,
   "id": "06cd90bd6e02991a",
   "metadata": {
    "tags": [
     "keep"
    ]
   },
   "outputs": [],
   "source": [
    "assert Arrays.equals(salaries.toArray(), new Double[] {2345.0, 1234.0, 570.0});\n",
    "assert result == 30.0;"
   ]
  },
  {
   "cell_type": "code",
   "execution_count": null,
   "id": "c88d84f4",
   "metadata": {},
   "outputs": [],
   "source": []
  }
 ],
 "metadata": {
  "celltoolbar": "Slideshow",
  "kernelspec": {
   "display_name": "Java",
   "language": "java",
   "name": "java"
  },
  "language_info": {
   "codemirror_mode": "java",
   "file_extension": ".jshell",
   "mimetype": "text/x-java-source",
   "name": "Java",
   "pygments_lexer": "java",
   "version": "19.0.1+10-21"
  }
 },
 "nbformat": 4,
 "nbformat_minor": 5
}

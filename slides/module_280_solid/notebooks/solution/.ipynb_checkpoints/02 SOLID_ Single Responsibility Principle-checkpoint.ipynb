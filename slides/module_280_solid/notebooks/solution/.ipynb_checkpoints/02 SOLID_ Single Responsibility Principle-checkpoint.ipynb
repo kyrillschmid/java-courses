{
 "cells": [
  {
   "cell_type": "markdown",
   "id": "841b5b98c34c1e09",
   "metadata": {
    "lang": "de",
    "slideshow": {
     "slide_type": "slide"
    },
    "tags": [
     "slide"
    ]
   },
   "source": [
    "<img src=\"data:image/png;base64,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\n",
    "\"\n",
    "     style=\"display:block;margin:auto;width:10%\"/>\n",
    "<br>\n",
    "\n",
    "<div style=\"text-align:center; font-size:200%;\">\n",
    " <b>SOLID: Single Responsibility Principle</b>\n",
    "</div>\n",
    "<br/>\n",
    "<div style=\"text-align:center;\">Dr. Matthias Hölzl</div>\n",
    "<br/>\n",
    "<!-- <div style=\"text-align:center;\">02 SOLID_ Single Responsibility Principle.ipynb</div> -->\n",
    "<!-- <div style=\"text-align:center;\">python_courses/slides/module_280_solid/topic_120_a3_solid_srp.py</div> -->"
   ]
  },
  {
   "cell_type": "markdown",
   "id": "a527901031a71edf",
   "metadata": {
    "lang": "de",
    "slideshow": {
     "slide_type": "slide"
    },
    "tags": [
     "slide"
    ]
   },
   "source": [
    "\n",
    "# SOLID: Single Responsibility Principle\n",
    "\n",
    "Wie ist der folgende Code zu bewerten?"
   ]
  },
  {
   "cell_type": "code",
   "execution_count": null,
   "id": "d3b8b59469e32ce4",
   "metadata": {
    "tags": [
     "keep"
    ]
   },
   "outputs": [],
   "source": [
    "public class Point2D {\n",
    "    private final double x;\n",
    "    private final double y;\n",
    "\n",
    "    public Point2D(double x, double y) {\n",
    "        this.x = x;\n",
    "        this.y = y;\n",
    "    }\n",
    "\n",
    "    public Point2D move(double dx, double dy) {\n",
    "        return new Point2D(x + dx, y + dy);\n",
    "    }\n",
    "}"
   ]
  },
  {
   "cell_type": "code",
   "execution_count": null,
   "id": "5441502f42877f5a",
   "metadata": {
    "tags": [
     "keep"
    ]
   },
   "outputs": [],
   "source": [
    "import java.util.List;\n",
    "\n",
    "public class Figure2d {\n",
    "    private final Point2D pivot;\n",
    "    private final List<Integer> sprite;\n",
    "    private final double health;\n",
    "    private final Object healthBar; // In reality a widget...\n",
    "    private final Object database; // The connection to the DB\n",
    "\n",
    "    public Figure2d(Point2D pivot, List<Integer> sprite, double health, Object healthBar, Object database) {\n",
    "        this.pivot = pivot;\n",
    "        this.sprite = sprite;\n",
    "        this.health = health;\n",
    "        this.healthBar = healthBar;\n",
    "        this.database = database;\n",
    "    }\n",
    "\n",
    "    public void move(double dx, double dy) {\n",
    "        // ...\n",
    "    }\n",
    "\n",
    "    public boolean isPlayerAvatar() {\n",
    "        // Check whether the figure is the player's avatar...\n",
    "        return true;\n",
    "    }\n",
    "\n",
    "    public void updateGui() {\n",
    "        // Update the health bar widget.\n",
    "        // ...\n",
    "    }\n",
    "\n",
    "    public void saveToDb() {\n",
    "        // Write the figure data to the database.\n",
    "        // ...\n",
    "    }\n",
    "}"
   ]
  },
  {
   "cell_type": "code",
   "execution_count": null,
   "id": "f211aa84366dbde7",
   "metadata": {},
   "outputs": [],
   "source": [
    "public class GameEditor {\n",
    "\n",
    "    public void editFigure(Figure2d figure) {\n",
    "        // Edit the figure...\n",
    "        figure.saveToDb();\n",
    "    }\n",
    "}"
   ]
  },
  {
   "cell_type": "code",
   "execution_count": null,
   "id": "8c301f891bc5ab9c",
   "metadata": {
    "lines_to_next_cell": 2
   },
   "outputs": [],
   "source": [
    "public class Game {\n",
    "    private final Figure2d playerAvatar;\n",
    "\n",
    "    public Game(Figure2d playerAvatar) {\n",
    "        this.playerAvatar = playerAvatar;\n",
    "    }\n",
    "\n",
    "    public void runGameLoop() {\n",
    "        // Do lots of things...\n",
    "        playerAvatar.updateGui();\n",
    "    }\n",
    "}"
   ]
  },
  {
   "cell_type": "markdown",
   "id": "e5d46b270b962c53",
   "metadata": {
    "lang": "de",
    "slideshow": {
     "slide_type": "subslide"
    },
    "tags": [
     "subslide"
    ]
   },
   "source": [
    "\n",
    "## Single-Responsibility-Prinzip\n",
    "\n",
    "- Für jede Klasse sollte es nur einen einzigen Grund geben, warum sie geändert\n",
    "  werden muss\n",
    "- Der Name ist nicht ganz korrekt: SRP besagt nicht, dass jede Klasse nur eine\n",
    "  einzige Verantwortung haben darf"
   ]
  },
  {
   "cell_type": "markdown",
   "id": "dbca1ddf0edd5a43",
   "metadata": {
    "lang": "de",
    "slideshow": {
     "slide_type": "subslide"
    },
    "tags": [
     "subslide"
    ]
   },
   "source": [
    "\n",
    "## Eine Verantwortung?\n",
    "\n",
    "<img src=\"img/book_01.png\"\n",
    "     style=\"display:block;margin:auto;width:35%\"/>\n"
   ]
  },
  {
   "cell_type": "markdown",
   "id": "5967943c5a3753e2",
   "metadata": {
    "lang": "de",
    "slideshow": {
     "slide_type": "subslide"
    },
    "tags": [
     "subslide"
    ]
   },
   "source": [
    "\n",
    "## Verletzung des SRPs\n",
    "\n",
    "<img src=\"img/book_02.png\"\n",
    "     style=\"display:block;margin:auto;width:60%\"/>\n"
   ]
  },
  {
   "cell_type": "code",
   "execution_count": null,
   "id": "f252361437734855",
   "metadata": {
    "lines_to_next_cell": 2,
    "tags": [
     "keep"
    ]
   },
   "outputs": [],
   "source": [
    "import java.util.Objects;\n",
    "\n",
    "public class Book {\n",
    "    private final String title;\n",
    "    private final String author;\n",
    "    private final int pages;\n",
    "\n",
    "    public Book(String title, String author, int pages) {\n",
    "        this.title = title;\n",
    "        this.author = author;\n",
    "        this.pages = pages;\n",
    "    }\n",
    "\n",
    "    public void print() {\n",
    "        // Lots of code that handles the printer\n",
    "        System.out.println(\"Printing to printer.\");\n",
    "    }\n",
    "\n",
    "    public void save() {\n",
    "        // Lots of code that handles the database\n",
    "        System.out.println(\"Saving to database.\");\n",
    "    }\n",
    "}\n"
   ]
  },
  {
   "cell_type": "markdown",
   "id": "5f1f2162936e233f",
   "metadata": {
    "lang": "de",
    "slideshow": {
     "slide_type": "subslide"
    },
    "tags": [
     "subslide"
    ]
   },
   "source": [
    "\n",
    "## Auflösung der SRP-Verletzung (Version 1)\n",
    "\n",
    "<img src=\"img/book_resolution_1.png\"\n",
    "     style=\"display:block;margin:auto;width:50%\"/>"
   ]
  },
  {
   "cell_type": "markdown",
   "id": "f56f9bb69c031aaa",
   "metadata": {
    "lang": "de",
    "slideshow": {
     "slide_type": "subslide"
    },
    "tags": [
     "subslide"
    ]
   },
   "source": [
    "\n",
    "## Auflösung der SRP-Verletzung (Version 2)\n",
    "\n",
    "<img src=\"img/book_resolution_2.png\"\n",
    "     style=\"display:block;margin:auto;width:80%\"/>"
   ]
  },
  {
   "cell_type": "markdown",
   "id": "fa2fe5c01cfad2ee",
   "metadata": {
    "lang": "de",
    "slideshow": {
     "slide_type": "subslide"
    },
    "tags": [
     "subslide"
    ]
   },
   "source": [
    "\n",
    "## Vergleich\n",
    "\n",
    "<img src=\"img/book_resolution_1.png\"\n",
    "     style=\"display:block;margin:auto;width:45%\"/>\n",
    "<img src=\"img/book_resolution_2.png\"\n",
    "     style=\"display:block;margin:auto;width:45%\"/>"
   ]
  },
  {
   "cell_type": "markdown",
   "id": "a6fe5dac960bd094",
   "metadata": {
    "lang": "de",
    "slideshow": {
     "slide_type": "subslide"
    },
    "tags": [
     "subslide"
    ]
   },
   "source": [
    "\n",
    "## Workshop: Employee\n",
    "\n",
    "Sie haben die folgende Implementierung eines Personal-Management Systems, die\n",
    "mehrere SRP-Verletzungen enthält. Implementieren Sie eine Variante, die diese\n",
    "beseitigt."
   ]
  },
  {
   "cell_type": "markdown",
   "id": "83a2bdc22a2974c1",
   "metadata": {},
   "source": [
    "<img src=\"img/employee_01.png\"\n",
    "     style=\"display:block;margin:auto;width:40%\"/>"
   ]
  },
  {
   "cell_type": "code",
   "execution_count": 1,
   "id": "70f9987ea3d29da2",
   "metadata": {
    "lines_to_next_cell": 1,
    "tags": [
     "keep"
    ]
   },
   "outputs": [],
   "source": [
    "public enum EmployeeType {\n",
    "    REGULAR,\n",
    "    HOURED,\n",
    "    COMMISSIONED;\n",
    "}"
   ]
  },
  {
   "cell_type": "code",
   "execution_count": 2,
   "id": "f4a1299053db3459",
   "metadata": {
    "lines_to_next_cell": 0,
    "tags": [
     "keep"
    ]
   },
   "outputs": [],
   "source": [
    "public class Project {\n",
    "    public final String name;\n",
    "    public final float assets;\n",
    "\n",
    "    public Project(String name, float assets) {\n",
    "        this.name = name;\n",
    "        this.assets = assets;\n",
    "    }\n",
    "}"
   ]
  },
  {
   "cell_type": "code",
   "execution_count": 8,
   "id": "8226e281",
   "metadata": {},
   "outputs": [],
   "source": [
    "public interface DataBase {\n",
    "    void save(Object o);\n",
    "    void printAllRecords();\n",
    "}"
   ]
  },
  {
   "cell_type": "code",
   "execution_count": 9,
   "id": "5be223d97bdb6f30",
   "metadata": {
    "lines_to_next_cell": 0,
    "tags": [
     "keep"
    ]
   },
   "outputs": [],
   "source": [
    "import java.util.HashMap;\n",
    "import java.util.Map;\n",
    "\n",
    "public class EmployeeV0 {\n",
    "    public final int id;\n",
    "    public final String name;\n",
    "    public final float salary;\n",
    "    public final int overtime;\n",
    "    public final EmployeeType employeeType;\n",
    "    public final Project project;\n",
    "    public final DataBase database;\n",
    "\n",
    "    public EmployeeV0(int id, String name, float salary, int overtime,\n",
    "                      EmployeeType employeeType, Project project, DataBase database) {\n",
    "        this.id = id;\n",
    "        this.name = name;\n",
    "        this.salary = salary;\n",
    "        this.overtime = overtime;\n",
    "        this.employeeType = employeeType;\n",
    "        this.project = project;\n",
    "        this.database = database;\n",
    "        \n",
    "    }\n",
    "\n",
    "    public float calculatePay() {\n",
    "        if (employeeType == EmployeeType.REGULAR) {\n",
    "            return salary + 60.0f * overtime;\n",
    "        } else if (employeeType == EmployeeType.COMMISSIONED) {\n",
    "            return project.assets * 0.1f;\n",
    "        } else if (employeeType == EmployeeType.HOURED) {\n",
    "            return 50.0f * overtime;\n",
    "        }\n",
    "        throw new IllegalArgumentException(employeeType + \" is not valid.\");\n",
    "    }\n",
    "\n",
    "    public int reportHours() {\n",
    "        if (employeeType == EmployeeType.REGULAR) {\n",
    "            return 40 + overtime;\n",
    "        } else if (employeeType == EmployeeType.COMMISSIONED) {\n",
    "            // Commissioned employees always work 40 hours\n",
    "            return 40;\n",
    "        } else if (employeeType == EmployeeType.HOURED) {\n",
    "            // We use overtime for the billed hours\n",
    "            return overtime;\n",
    "        }\n",
    "        throw new IllegalArgumentException(employeeType + \" is not valid.\");\n",
    "    }\n",
    "\n",
    "    public void printReport() {\n",
    "        System.out.println(name + \" worked \" + reportHours() + \" hours.\");\n",
    "    }\n",
    "\n",
    "    public void saveEmployee() {\n",
    "        this.database.save(this);\n",
    "    }\n",
    "}"
   ]
  },
  {
   "cell_type": "code",
   "execution_count": null,
   "id": "6354d9b2",
   "metadata": {},
   "outputs": [],
   "source": [
    "import java.util.HashMap;\n",
    "import java.util.Map;\n",
    "\n",
    "public class MapDatabase implements DataBase {\n",
    "    private final Map<Integer, Map<String, Object>> database;\n",
    "    \n",
    "    public MapDatabase() {\n",
    "        this.database = new HashMap<>();\n",
    "    }\n",
    "    \n",
    "    @Override\n",
    "    public void save(Object o) {\n",
    "        if(o instanceof EmployeeV0){\n",
    "            EmployeeV0 employee = (EmployeeV0)o;\n",
    "            Map<String, Object> employeeData = new HashMap<>();\n",
    "            employeeData.put(\"name\", employee.name);\n",
    "            employeeData.put(\"salary\", employee.salary);\n",
    "            employeeData.put(\"overtime\", employee.overtime);\n",
    "            employeeData.put(\"employee_type\", employee.employeeType);\n",
    "            employeeData.put(\"project\", employee.project);\n",
    "            database.put(employee.id, employeeData);\n",
    "        }\n",
    "    }\n",
    "    \n",
    "    @Override\n",
    "    public void printAllRecords() {\n",
    "    for (Map.Entry<Integer, Map<String, Object>> entry : database.entrySet()) {\n",
    "        Map<String, Object> employeeData = entry.getValue();\n",
    "        System.out.println(\"Employee ID: \" + entry.getKey());\n",
    "        System.out.println(\"Name: \" + employeeData.get(\"name\"));\n",
    "        System.out.println(\"Salary: \" + employeeData.get(\"salary\"));\n",
    "        System.out.println(\"Overtime: \" + employeeData.get(\"overtime\"));\n",
    "        System.out.println(\"Employee Type: \" + employeeData.get(\"employee_type\"));\n",
    "        System.out.println(\"Project: \" + ((Project) employeeData.get(\"project\")).name);\n",
    "        System.out.println(\"=\".repeat(35));\n",
    "    }\n",
    " }\n",
    "}"
   ]
  },
  {
   "cell_type": "code",
   "execution_count": null,
   "id": "92de058c",
   "metadata": {},
   "outputs": [],
   "source": [
    "MapDatabase database = new MapDatabase();"
   ]
  },
  {
   "cell_type": "code",
   "execution_count": null,
   "id": "5f7927cebdf30846",
   "metadata": {
    "tags": [
     "keep"
    ]
   },
   "outputs": [],
   "source": [
    "Project p1 = new Project(\"Project 1\", 10_000.0f);\n",
    "Project p2 = new Project(\"Project 2\", 12_000.0f);"
   ]
  },
  {
   "cell_type": "code",
   "execution_count": null,
   "id": "51eada49fe7f4a1d",
   "metadata": {
    "tags": [
     "keep"
    ]
   },
   "outputs": [],
   "source": [
    "EmployeeV0 e1 = new EmployeeV0(\n",
    "    123,\n",
    "    \"Joe Random\",\n",
    "    1000.0f,\n",
    "    5,\n",
    "    EmployeeType.REGULAR,\n",
    "    p1, \n",
    "    database = database\n",
    ");"
   ]
  },
  {
   "cell_type": "code",
   "execution_count": null,
   "id": "21a16514",
   "metadata": {},
   "outputs": [],
   "source": [
    "EmployeeV0 e2 = new EmployeeV0(\n",
    "    124,\n",
    "    \"Jane Ransom\",\n",
    "    1500.0f,\n",
    "    43,\n",
    "    EmployeeType.HOURED,\n",
    "    p1,\n",
    "    database = database\n",
    ");"
   ]
  },
  {
   "cell_type": "code",
   "execution_count": null,
   "id": "383d3bd68160bc57",
   "metadata": {
    "tags": [
     "keep"
    ]
   },
   "outputs": [],
   "source": [
    "EmployeeV0 e3 = new EmployeeV0(\n",
    "    125,\n",
    "    \"Jill Chance\",\n",
    "    2500.0f,\n",
    "    2,\n",
    "    EmployeeType.COMMISSIONED,\n",
    "    p2,\n",
    "    database = database\n",
    ");"
   ]
  },
  {
   "cell_type": "code",
   "execution_count": null,
   "id": "7d17df194f01d550",
   "metadata": {
    "tags": [
     "keep"
    ]
   },
   "outputs": [],
   "source": [
    "List<EmployeeV0> employees = Arrays.asList(e1, e2, e3);"
   ]
  },
  {
   "cell_type": "code",
   "execution_count": null,
   "id": "5f5ed2a387ae04f6",
   "metadata": {
    "tags": [
     "keep"
    ]
   },
   "outputs": [],
   "source": [
    "for (EmployeeV0 e : employees) {\n",
    "    System.out.println(\"=\".repeat(35));\n",
    "    System.out.printf(\"%s has a salary of %.2f%n\", e.name, e.calculatePay());\n",
    "    e.printReport();\n",
    "    e.saveEmployee();   \n",
    "}\n",
    "System.out.println(\"=\".repeat(35));\n"
   ]
  },
  {
   "cell_type": "code",
   "execution_count": null,
   "id": "2936142550a2790b",
   "metadata": {
    "lines_to_next_cell": 0
   },
   "outputs": [],
   "source": [
    "database.printAllRecords();"
   ]
  },
  {
   "cell_type": "code",
   "execution_count": null,
   "id": "f87134ef",
   "metadata": {},
   "outputs": [],
   "source": []
  }
 ],
 "metadata": {
  "kernelspec": {
   "display_name": "Java",
   "language": "java",
   "name": "java"
  },
  "language_info": {
   "codemirror_mode": "java",
   "file_extension": ".jshell",
   "mimetype": "text/x-java-source",
   "name": "Java",
   "pygments_lexer": "java",
   "version": "19.0.1+10-21"
  }
 },
 "nbformat": 4,
 "nbformat_minor": 5
}
